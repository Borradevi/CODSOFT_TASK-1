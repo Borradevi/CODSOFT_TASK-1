{
 "cells": [
  {
   "cell_type": "code",
   "execution_count": null,
   "id": "7bdb5641",
   "metadata": {},
   "outputs": [
    {
     "name": "stdout",
     "output_type": "stream",
     "text": [
      "Chatbot: Hello! I am Chatbot. Type 'exit' to end the conversation.\n",
      "You: hi a\n",
      "Chatbot: Hello! How can I help you today?\n",
      "You: the capacity of the human brain\n",
      "Chatbot: I'm sorry, I don't understand that. Can you please rephrase?\n",
      "You: can u say about me\n",
      "Chatbot: I'm sorry, I don't understand that. Can you please rephrase?\n",
      "You: how are you\n",
      "Chatbot: I'm just a bot, but I'm doing great! How about you?\n",
      "You: your name\n",
      "Chatbot: I'm Chatbot, your virtual assistant.\n"
     ]
    }
   ],
   "source": [
    "def chatbot_response(user_input):\n",
    "    # Convert the input to lowercase to make matching case-insensitive\n",
    "    user_input = user_input.lower()\n",
    "\n",
    "    # Define some simple rules for the chatbot\n",
    "    if \"hello\" in user_input or \"hi\" in user_input:\n",
    "        return \"Hello! How can I help you today?\"\n",
    "    elif \"how are you\" in user_input:\n",
    "        return \"I'm just a bot, but I'm doing great! How about you?\"\n",
    "    elif \"your name\" in user_input:\n",
    "        return \"I'm Chatbot, your virtual assistant.\"\n",
    "    elif \"bye\" in user_input or \"goodbye\" in user_input:\n",
    "        return \"Goodbye! Have a nice day!\"\n",
    "    elif \"help\" in user_input:\n",
    "        return \"Sure, I'm here to help. What do you need assistance with?\"\n",
    "    else:\n",
    "        return \"I'm sorry, I don't understand that. Can you please rephrase?\"\n",
    "\n",
    "# Main loop to interact with the user\n",
    "if __name__ == \"__main__\":\n",
    "    print(\"Chatbot: Hello! I am Chatbot. Type 'exit' to end the conversation.\")\n",
    "    while True:\n",
    "        user_input = input(\"You: \")\n",
    "        if user_input.lower() == 'exit':\n",
    "            print(\"Chatbot: Goodbye! Have a nice day!\")\n",
    "            break\n",
    "        response = chatbot_response(user_input)\n",
    "        print(f\"Chatbot: {response}\")\n"
   ]
  },
  {
   "cell_type": "code",
   "execution_count": null,
   "id": "dddd81ca",
   "metadata": {},
   "outputs": [],
   "source": []
  }
 ],
 "metadata": {
  "kernelspec": {
   "display_name": "Python 3 (ipykernel)",
   "language": "python",
   "name": "python3"
  },
  "language_info": {
   "codemirror_mode": {
    "name": "ipython",
    "version": 3
   },
   "file_extension": ".py",
   "mimetype": "text/x-python",
   "name": "python",
   "nbconvert_exporter": "python",
   "pygments_lexer": "ipython3",
   "version": "3.12.4"
  }
 },
 "nbformat": 4,
 "nbformat_minor": 5
}
